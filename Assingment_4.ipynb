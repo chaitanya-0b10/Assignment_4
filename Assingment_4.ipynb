{
 "cells": [
  {
   "cell_type": "markdown",
   "id": "560bc2d8-8ffe-439f-ab80-c8d88b9d54ba",
   "metadata": {},
   "source": [
    "### -----------Assignment : OOPS Assignment--------------"
   ]
  },
  {
   "cell_type": "markdown",
   "id": "7d883636-4d28-47cf-bbcf-f87e075bcc51",
   "metadata": {},
   "source": [
    "1. What are the five key concepts of Object-Oriented Programming (OOP)?"
   ]
  },
  {
   "cell_type": "code",
   "execution_count": 119,
   "id": "5270a9f0-8dc1-4333-9ac7-e5b05667f1ca",
   "metadata": {},
   "outputs": [
    {
     "data": {
      "text/plain": [
       "'\\nClass:- A blueprint for creating objects. \\nIt defines a set of attributes and methods that the created objects will have.\\n\\nObject:- An instance of a class. \\nIt represents a real-world entity with a state and behavior.\\n\\nEncapsulation:- The bundling of data and methods that operate on the data within a single unit or class. \\nIt restricts direct access to some of the object’s components, which can prevent the accidental modification of data.\\n\\nInheritance:- A mechanism where a new class inherits properties and behavior (methods) from an existing class. \\nThis promotes code reuse and establishes a relationship between classes.\\n\\nPolymorphism: The ability of different classes to be treated as instances of the same class through inheritance. \\nIt allows methods to do different things based on the object it is acting upon, even if they share the same name\\n'"
      ]
     },
     "execution_count": 119,
     "metadata": {},
     "output_type": "execute_result"
    }
   ],
   "source": [
    "'''\n",
    "Class:- A blueprint for creating objects. \n",
    "It defines a set of attributes and methods that the created objects will have.\n",
    "\n",
    "Object:- An instance of a class. \n",
    "It represents a real-world entity with a state and behavior.\n",
    "\n",
    "Encapsulation:- The bundling of data and methods that operate on the data within a single unit or class. \n",
    "It restricts direct access to some of the object’s components, which can prevent the accidental modification of data.\n",
    "\n",
    "Inheritance:- A mechanism where a new class inherits properties and behavior (methods) from an existing class. \n",
    "This promotes code reuse and establishes a relationship between classes.\n",
    "\n",
    "Polymorphism: The ability of different classes to be treated as instances of the same class through inheritance. \n",
    "It allows methods to do different things based on the object it is acting upon, even if they share the same name\n",
    "'''"
   ]
  },
  {
   "cell_type": "markdown",
   "id": "cdcf5fe9-f126-4fe5-a668-9e106bad88f6",
   "metadata": {},
   "source": [
    "2. Write a Python class for a `Car` with attributes for `make`, `model`, and `year`. Include a method to display\r\n",
    "the car's information."
   ]
  },
  {
   "cell_type": "code",
   "execution_count": 122,
   "id": "f7ba2739-7a91-4214-b76c-aebbb53376d9",
   "metadata": {},
   "outputs": [
    {
     "name": "stdout",
     "output_type": "stream",
     "text": [
      "Car Information: Make_xyz Model-ABC 2020\n"
     ]
    }
   ],
   "source": [
    "class Car:\n",
    "    def __init__(self, make, model, year):\n",
    "        self.make = make\n",
    "        self.model = model\n",
    "        self.year = year\n",
    "\n",
    "    def display(self):\n",
    "        print(f\"Car Information: {self.make} {self.model} {self.year}\")\n",
    "\n",
    "\n",
    "car = Car(\"Make_xyz\", \"Model-ABC\", 2020)\n",
    "car.display()\n"
   ]
  },
  {
   "cell_type": "markdown",
   "id": "dbbf0f18-ecf0-4065-8f79-cc0858ace230",
   "metadata": {},
   "source": [
    "3. Explain the difference between instance methods and class methods. Provide an example of each."
   ]
  },
  {
   "cell_type": "code",
   "execution_count": 125,
   "id": "701488d5-0bf2-4b00-9ad8-b1fca06c4de4",
   "metadata": {},
   "outputs": [
    {
     "name": "stdout",
     "output_type": "stream",
     "text": [
      "Called instance_method of <__main__.MyClass object at 0x000001B5E04699D0>\n"
     ]
    }
   ],
   "source": [
    "'''Instance Methods:-\n",
    "Instance methods are the most common type of methods in Python classes. \n",
    "They are associated with an instance of the class.\n",
    "They can access and modify the instance’s attributes and other methods.\n",
    "The first parameter is always self, which refers to the instance calling the method\n",
    "'''\n",
    "class MyClass:\n",
    "    def instance_method(self):\n",
    "        return f\"Called instance_method of {self}\"\n",
    "\n",
    "\n",
    "obj = MyClass()\n",
    "print(obj.instance_method())\n"
   ]
  },
  {
   "cell_type": "code",
   "execution_count": 127,
   "id": "e1b3db39-40ed-41c6-89ac-4374fd696f11",
   "metadata": {},
   "outputs": [
    {
     "name": "stdout",
     "output_type": "stream",
     "text": [
      "Called class_method of <class '__main__.MyClass'>, accessing Class Variable\n"
     ]
    }
   ],
   "source": [
    "'''Class Methods\n",
    "Class methods are methods that operate on the class itself rather than on instances of the class. \n",
    "They are marked with the @classmethod decorator and take cls as their first parameter,\n",
    "which refers to the class.'''\n",
    "\n",
    "class MyClass:\n",
    "    class_variable = \"Class Variable\"\n",
    "\n",
    "    @classmethod\n",
    "    def class_method(cls):\n",
    "        return f\"Called class_method of {cls}, accessing {cls.class_variable}\"\n",
    "\n",
    "\n",
    "print(MyClass.class_method())  "
   ]
  },
  {
   "cell_type": "markdown",
   "id": "cbe4b1e2-fdf5-4648-b12b-4ccd0ff985f7",
   "metadata": {},
   "source": [
    "4. How does Python implement method overloading? Give an example."
   ]
  },
  {
   "cell_type": "code",
   "execution_count": 130,
   "id": "f47e4914-7e27-44e4-af9d-5ff7ab7d975b",
   "metadata": {},
   "outputs": [
    {
     "name": "stdout",
     "output_type": "stream",
     "text": [
      "2\n",
      "5\n",
      "9\n"
     ]
    }
   ],
   "source": [
    "'''\n",
    "Method overloading is a feature of object-oriented programming \n",
    "where a class can have multiple methods with the same name but different parameters.\n",
    "To overload method, \n",
    "we must change the number of parameters or the type of parameters\n",
    "'''\n",
    "\n",
    "class A:\n",
    "    def add(self, a, b=0, c=0):\n",
    "        return a + b + c\n",
    "\n",
    "\n",
    "math_op = A()\n",
    "print(math_op.add(2))       \n",
    "print(math_op.add(2, 3))     \n",
    "print(math_op.add(2, 3, 4))  \n"
   ]
  },
  {
   "cell_type": "code",
   "execution_count": 132,
   "id": "18525944-79e4-4cca-8b0d-e003f3efa367",
   "metadata": {},
   "outputs": [
    {
     "name": "stdout",
     "output_type": "stream",
     "text": [
      "2\n",
      "5\n",
      "9\n"
     ]
    }
   ],
   "source": [
    "class B:\n",
    "    def add(self, *args):\n",
    "        return sum(args)\n",
    "\n",
    "\n",
    "math_op = B()\n",
    "print(math_op.add(2))        \n",
    "print(math_op.add(2, 3))     \n",
    "print(math_op.add(2, 3, 4)) \n"
   ]
  },
  {
   "cell_type": "markdown",
   "id": "33838036-5cb1-43f3-8364-e183c364f14b",
   "metadata": {},
   "source": [
    "5. What are the three types of access modifiers in Python? How are they denoted?"
   ]
  },
  {
   "cell_type": "code",
   "execution_count": 135,
   "id": "c426845c-3a2d-4c86-afb1-1758e8b58af2",
   "metadata": {},
   "outputs": [],
   "source": [
    "'''Public: Members are accessible from anywhere in the program. By default, \n",
    "all members of a class are public. \n",
    "They are denoted without any leading underscores.'''\n",
    "\n",
    "class E:\n",
    "    def __init__(self):\n",
    "        self.p = \"I am public\"\n"
   ]
  },
  {
   "cell_type": "code",
   "execution_count": 137,
   "id": "7f01862b-9ecd-46df-8f03-89ed0f759530",
   "metadata": {},
   "outputs": [],
   "source": [
    "'''Protected: Members are accessible within the class and its subclasses.\n",
    "They are denoted by a single leading underscore.'''\n",
    "\n",
    "class F:\n",
    "    def __init__(self):\n",
    "        self._a = \"I am protected\"\n",
    "\n"
   ]
  },
  {
   "cell_type": "code",
   "execution_count": 139,
   "id": "4dcc8507-aed9-4096-a473-0486923de8b0",
   "metadata": {},
   "outputs": [],
   "source": [
    "'''Private: Members are accessible only within the class.\n",
    "They are denoted by a double leading underscore'''\n",
    "\n",
    "class G:\n",
    "    def __init__(self):\n",
    "        self.__b = \"I am private\"\n"
   ]
  },
  {
   "cell_type": "markdown",
   "id": "48496835-458e-44f3-b55d-c3ed47bf9516",
   "metadata": {},
   "source": [
    "6. Describe the five types of inheritance in Python. Provide a simple example of multiple inheritance."
   ]
  },
  {
   "cell_type": "code",
   "execution_count": 142,
   "id": "622c0333-c7c8-4f32-b5ea-052169fd855c",
   "metadata": {},
   "outputs": [
    {
     "name": "stdout",
     "output_type": "stream",
     "text": [
      "Feature 1 from Parent 1\n",
      "Feature 2 from Parent 2\n",
      "Feature 3 from Child\n"
     ]
    }
   ],
   "source": [
    "'''\n",
    "Single Inheritance: A subclass inherits from a single parent class.\n",
    "Multiple Inheritance: A subclass inherits from more than one parent class.\n",
    "Multilevel Inheritance: A subclass inherits from a class that has already inherited from another class.\n",
    "Hierarchical Inheritance: Multiple subclasses inherit from a single parent class.\n",
    "Hybrid Inheritance: A combination of two or more types of inheritance.\n",
    "'''\n",
    "\n",
    "class Parent1:\n",
    "    def feature1(self):\n",
    "        return \"Feature 1 from Parent 1\"\n",
    "\n",
    "class Parent2:\n",
    "    def feature2(self):\n",
    "        return \"Feature 2 from Parent 2\"\n",
    "\n",
    "class Child(Parent1, Parent2):\n",
    "    def feature3(self):\n",
    "        return \"Feature 3 from Child\"\n",
    "\n",
    "child_obj = Child()\n",
    "\n",
    "\n",
    "print(child_obj.feature1())  \n",
    "print(child_obj.feature2())  \n",
    "print(child_obj.feature3())  \n"
   ]
  },
  {
   "cell_type": "markdown",
   "id": "0aef22da-bffd-4ff1-a5d4-77213956bcb0",
   "metadata": {},
   "source": [
    "7. What is the Method Resolution Order (MRO) in Python? How can you retrieve it programmatically?"
   ]
  },
  {
   "cell_type": "code",
   "execution_count": 145,
   "id": "0ec3c5bb-994a-4217-9bbd-1a7a6fbe8277",
   "metadata": {},
   "outputs": [
    {
     "name": "stdout",
     "output_type": "stream",
     "text": [
      "(<class '__main__.D'>, <class '__main__.B'>, <class '__main__.C'>, <class '__main__.A'>, <class 'object'>)\n"
     ]
    }
   ],
   "source": [
    "'''\n",
    "The Method Resolution Order (MRO) in Python is the order in which Python looks for a method \n",
    "in a hierarchy of classes.\n",
    "This is especially important in the context of multiple inheritance,\n",
    "where a method might be found in multiple superclasses'''\n",
    "\n",
    "class A:\n",
    "    pass\n",
    "\n",
    "class B(A):\n",
    "    pass\n",
    "\n",
    "class C(A):\n",
    "    pass\n",
    "\n",
    "class D(B, C):\n",
    "    pass\n",
    "\n",
    "print(D.__mro__)\n"
   ]
  },
  {
   "cell_type": "markdown",
   "id": "adc1a729-81cb-4075-8755-b6c05b0dcbe3",
   "metadata": {},
   "source": [
    "8. Create an abstract base class `Shape` with an abstract method `area()`. Then create two subclasses\r\n",
    "`Circle` and `Rectangle` that implement the `area()` method."
   ]
  },
  {
   "cell_type": "code",
   "execution_count": 148,
   "id": "7ad9c696-0a08-4ff5-83d8-9f53b2da4ef5",
   "metadata": {},
   "outputs": [
    {
     "name": "stdout",
     "output_type": "stream",
     "text": [
      "Area of circle: 78.53981633974483\n",
      "Area of rectangle: 24\n"
     ]
    }
   ],
   "source": [
    "from abc import ABC, abstractmethod\n",
    "class Shape(ABC):\n",
    "    @abstractmethod\n",
    "    def area(self):\n",
    "        \"\"\"Calculate the area of the shape\"\"\"\n",
    "        pass\n",
    "\n",
    "class Circle(Shape):\n",
    "    def __init__(self, radius):\n",
    "        self.radius = radius\n",
    "    \n",
    "    def area(self):\n",
    "        pi = 3.141592653589793 \n",
    "        return pi * self.radius * self.radius\n",
    "\n",
    "class Rectangle(Shape):\n",
    "    def __init__(self, width, height):\n",
    "        self.width = width\n",
    "        self.height = height\n",
    "    \n",
    "    def area(self):\n",
    "        return self.width * self.height\n",
    "\n",
    "circle = Circle(5)          \n",
    "rectangle = Rectangle(4, 6)  \n",
    "\n",
    "print(f\"Area of circle: {circle.area()}\")        \n",
    "print(f\"Area of rectangle: {rectangle.area()}\")   \n"
   ]
  },
  {
   "cell_type": "markdown",
   "id": "77c7a9b1-2a4d-4589-b8b1-92346fc58dec",
   "metadata": {},
   "source": [
    "9. Demonstrate polymorphism by creating a function that can work with different shape objects to calculate\n",
    "and print their areas."
   ]
  },
  {
   "cell_type": "code",
   "execution_count": 151,
   "id": "3d86c7f3-a20d-41ed-b051-f6116ec5ef1f",
   "metadata": {},
   "outputs": [
    {
     "name": "stdout",
     "output_type": "stream",
     "text": [
      "The area is: 50\n",
      "The area is: 153.93791\n",
      "The area is: 24.0\n"
     ]
    }
   ],
   "source": [
    "class Shape:\n",
    "    def area(self):\n",
    "        pass\n",
    "\n",
    "class Rectangle(Shape):\n",
    "    def __init__(self, width, height):\n",
    "        self.width = width\n",
    "        self.height = height\n",
    "\n",
    "    def area(self):\n",
    "        return self.width * self.height\n",
    "\n",
    "class Circle(Shape):\n",
    "    def __init__(self, radius):\n",
    "        self.radius = radius\n",
    "\n",
    "    def area(self):\n",
    "        return 3.14159 * self.radius * self.radius\n",
    "\n",
    "class Triangle(Shape):\n",
    "    def __init__(self, base, height):\n",
    "        self.base = base\n",
    "        self.height = height\n",
    "\n",
    "    def area(self):\n",
    "        return 0.5 * self.base * self.height\n",
    "\n",
    "def print_area(shape):\n",
    "    print(f\"The area is: {shape.area()}\")\n",
    "\n",
    "rectangle = Rectangle(5, 10)\n",
    "circle = Circle(7)\n",
    "triangle = Triangle(6, 8)\n",
    "\n",
    "print_area(rectangle)\n",
    "print_area(circle)\n",
    "print_area(triangle)\n"
   ]
  },
  {
   "cell_type": "markdown",
   "id": "5f726812-f93a-46be-b338-31b6cc4c026a",
   "metadata": {},
   "source": [
    "10. Implement encapsulation in a `BankAccount` class with private attributes for `balance` and\n",
    "`account_number`. Include methods for deposit, withdrawal, and balance inquiry."
   ]
  },
  {
   "cell_type": "code",
   "execution_count": 154,
   "id": "991756d4-7e20-41ac-a5a5-56abaa0ca321",
   "metadata": {},
   "outputs": [
    {
     "name": "stdout",
     "output_type": "stream",
     "text": [
      "Deposited 500. New balance is 1500.\n",
      "Withdrew 200. New balance is 1300.\n",
      "Account balance: 1300\n",
      "Account number: 123456789\n"
     ]
    }
   ],
   "source": [
    "class BankAccount:\n",
    "    def __init__(self, account_number, initial_balance=0):\n",
    "        self.__account_number = account_number\n",
    "        self.__balance = initial_balance\n",
    "\n",
    "    def deposit(self, amount):\n",
    "        if amount > 0:\n",
    "            self.__balance += amount\n",
    "            print(f\"Deposited {amount}. New balance is {self.__balance}.\")\n",
    "        else:\n",
    "            print(\"Deposit amount must be positive.\")\n",
    "\n",
    "    def withdraw(self, amount):\n",
    "        if 0 < amount <= self.__balance:\n",
    "            self.__balance -= amount\n",
    "            print(f\"Withdrew {amount}. New balance is {self.__balance}.\")\n",
    "        else:\n",
    "            print(\"Insufficient funds or invalid amount.\")\n",
    "\n",
    "    def get_balance(self):\n",
    "        return self.__balance\n",
    "\n",
    "    def get_account_number(self):\n",
    "        return self.__account_number\n",
    "\n",
    "account = BankAccount(\"123456789\", 1000)\n",
    "account.deposit(500)\n",
    "account.withdraw(200)\n",
    "print(f\"Account balance: {account.get_balance()}\")\n",
    "print(f\"Account number: {account.get_account_number()}\")\n"
   ]
  },
  {
   "cell_type": "markdown",
   "id": "c35a1ea8-2d01-45f8-b2c6-a2b611fc6c81",
   "metadata": {},
   "source": [
    "11. Write a class that overrides the `__str__` and `__add__` magic methods. What will these methods allow\r\n",
    "you to do?"
   ]
  },
  {
   "cell_type": "code",
   "execution_count": 157,
   "id": "7cb7559c-1c39-4a85-a3f1-6111ae427e76",
   "metadata": {},
   "outputs": [
    {
     "name": "stdout",
     "output_type": "stream",
     "text": [
      "MyClass with value: 10\n",
      "MyClass with value: 20\n",
      "MyClass with value: 30\n"
     ]
    },
    {
     "data": {
      "text/plain": [
       "'The __add__ method allows  to define the behavior of the addition operator (+) for instances of class. \\nThis is useful for operator overloading, where we can specify how objects of  class should be added together.\\n'"
      ]
     },
     "execution_count": 157,
     "metadata": {},
     "output_type": "execute_result"
    }
   ],
   "source": [
    "class MyClass:\n",
    "    def __init__(self, value):\n",
    "        self.value = value\n",
    "    \n",
    "    def __str__(self):\n",
    "        return f\"MyClass with value: {self.value}\"\n",
    "    \n",
    "    def __add__(self, other):\n",
    "        \n",
    "        if isinstance(other, MyClass):\n",
    "            return MyClass(self.value + other.value)\n",
    "        else:\n",
    "            raise TypeError(\"Unsupported operand type(s) for +: 'MyClass' and '{}'\".format(type(other).__name__))\n",
    "\n",
    "\n",
    "a = MyClass(10)\n",
    "b = MyClass(20)\n",
    "\n",
    "print(a) \n",
    "print(b)  \n",
    "\n",
    "c = a + b \n",
    "print(c)  \n",
    "\n",
    "''' the __str__ and __add__ methods are special methods, also known as magic methods or dunder methods \n",
    ".They allow  to customize the behavior of classes in specific ways.'''\n",
    "\n",
    "'''The __str__ method is used to define a human-readable string representation of an object.\n",
    " the __str__ method to get the string representation.\n",
    "  the __str__ method determines the string that is returned.'''\n",
    "\n",
    "'''The __add__ method allows  to define the behavior of the addition operator (+) for instances of class. \n",
    "This is useful for operator overloading, where we can specify how objects of  class should be added together.\n",
    "'''\n"
   ]
  },
  {
   "cell_type": "markdown",
   "id": "aaca0b3a-a2df-4c9f-9285-80f1d1c07a7a",
   "metadata": {},
   "source": [
    "12. Create a decorator that measures and prints the execution time of a function."
   ]
  },
  {
   "cell_type": "code",
   "execution_count": 160,
   "id": "f93f5c52-8bec-4a41-b980-55053d2fa906",
   "metadata": {},
   "outputs": [
    {
     "name": "stdout",
     "output_type": "stream",
     "text": [
      "Execution time of func: 0.0736 seconds\n",
      "Result: 499999500000\n"
     ]
    }
   ],
   "source": [
    "import time\n",
    "\n",
    "def timing_decorator(func):\n",
    "    def R(*args, **kwargs):\n",
    "        start_time = time.time()\n",
    "        result = func(*args, **kwargs)\n",
    "        end_time = time.time()\n",
    "        execution_time = end_time - start_time\n",
    "        print(f\"Execution time of {func.__name__}: {execution_time:.4f} seconds\")\n",
    "        return result\n",
    "    return R\n",
    "\n",
    "\n",
    "@timing_decorator\n",
    "def func(n):\n",
    "    total = 0\n",
    "    for i in range(n):\n",
    "        total += i\n",
    "    return total\n",
    "\n",
    "result = func(1000000)\n",
    "print(\"Result:\", result)\n",
    "\n"
   ]
  },
  {
   "cell_type": "markdown",
   "id": "10da93df-8966-4bd0-9f4d-4fe1bc97ad73",
   "metadata": {},
   "source": [
    "13. Explain the concept of the Diamond Problem in multiple inheritance. How does Python resolve it?"
   ]
  },
  {
   "cell_type": "code",
   "execution_count": 163,
   "id": "2e5255a7-b059-451e-bad0-40d4c0f96143",
   "metadata": {},
   "outputs": [
    {
     "name": "stdout",
     "output_type": "stream",
     "text": [
      "Method in B\n",
      "(<class '__main__.D'>, <class '__main__.B'>, <class '__main__.C'>, <class '__main__.A'>, <class 'object'>)\n"
     ]
    }
   ],
   "source": [
    "'''The Diamond Problem is a common issue in multiple inheritance \n",
    "where a class inherits from two classes that both inherit from a single base class. \n",
    "This can create problem about which path to follow when calling methods \n",
    "or accessing attributes from the base class.'''\n",
    "\n",
    "'''Python resolves the Diamond Problem using the Method Resolution Order (MRO)'''\n",
    "\n",
    "class A:\n",
    "    def method(self):\n",
    "        print(\"Method in A\")\n",
    "\n",
    "class B(A):\n",
    "    def method(self):\n",
    "        print(\"Method in B\")\n",
    "\n",
    "class C(A):\n",
    "    def method(self):\n",
    "        print(\"Method in C\")\n",
    "\n",
    "class D(B, C):\n",
    "    pass\n",
    "\n",
    "d = D()\n",
    "d.method()\n",
    "\n",
    "print(D.__mro__)\n"
   ]
  },
  {
   "cell_type": "markdown",
   "id": "5bfac6e7-9935-44f9-a6fd-88ddc4af4818",
   "metadata": {},
   "source": [
    "14. Write a class method that keeps track of the number of instances created from a class."
   ]
  },
  {
   "cell_type": "code",
   "execution_count": 166,
   "id": "13a8fdd3-9d69-4910-863b-62b881c3d9f6",
   "metadata": {},
   "outputs": [
    {
     "name": "stdout",
     "output_type": "stream",
     "text": [
      "3\n"
     ]
    }
   ],
   "source": [
    "class InstanceCounter:\n",
    "    count = 0  \n",
    "\n",
    "    def __init__(self):\n",
    "        InstanceCounter.increment_count()\n",
    "\n",
    "    @classmethod\n",
    "    def increment_count(cls):\n",
    "        cls.count += 1\n",
    "\n",
    "    @classmethod\n",
    "    def get_instance_count(cls):\n",
    "        return cls.count\n",
    "\n",
    "\n",
    "obj1 = InstanceCounter()\n",
    "obj2 = InstanceCounter()\n",
    "obj3 = InstanceCounter()\n",
    "\n",
    "print(InstanceCounter.get_instance_count())  \n"
   ]
  },
  {
   "cell_type": "markdown",
   "id": "7e4b4e20-2c8a-4759-a93c-31501c060922",
   "metadata": {},
   "source": [
    "15. Implement a static method in a class that checks if a given year is a leap year."
   ]
  },
  {
   "cell_type": "code",
   "execution_count": 169,
   "id": "91acc3df-c6c8-4d63-b53c-06e1c07e68e6",
   "metadata": {},
   "outputs": [
    {
     "name": "stdout",
     "output_type": "stream",
     "text": [
      "True\n",
      "False\n"
     ]
    }
   ],
   "source": [
    "class YearChecker:\n",
    "    @staticmethod\n",
    "    def leap_year(year):\n",
    "        if (year % 4 == 0 and year % 100 != 0) or (year % 400 == 0):\n",
    "            return True\n",
    "        return False\n",
    "\n",
    "\n",
    "print(YearChecker.leap_year(2020))  \n",
    "print(YearChecker.leap_year(2021))  \n",
    "\n"
   ]
  },
  {
   "cell_type": "code",
   "execution_count": null,
   "id": "10daf1dd-ec23-4bfb-a181-c39d751bf95b",
   "metadata": {},
   "outputs": [],
   "source": []
  },
  {
   "cell_type": "code",
   "execution_count": null,
   "id": "43443338-238a-44f2-8584-e291a081634b",
   "metadata": {},
   "outputs": [],
   "source": []
  }
 ],
 "metadata": {
  "kernelspec": {
   "display_name": "Python 3 (ipykernel)",
   "language": "python",
   "name": "python3"
  },
  "language_info": {
   "codemirror_mode": {
    "name": "ipython",
    "version": 3
   },
   "file_extension": ".py",
   "mimetype": "text/x-python",
   "name": "python",
   "nbconvert_exporter": "python",
   "pygments_lexer": "ipython3",
   "version": "3.12.4"
  }
 },
 "nbformat": 4,
 "nbformat_minor": 5
}
